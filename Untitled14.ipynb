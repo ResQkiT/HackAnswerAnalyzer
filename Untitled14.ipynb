{
  "nbformat": 4,
  "nbformat_minor": 0,
  "metadata": {
    "colab": {
      "provenance": []
    },
    "kernelspec": {
      "name": "python3",
      "display_name": "Python 3"
    },
    "language_info": {
      "name": "python"
    }
  },
  "cells": [
    {
      "cell_type": "code",
      "source": [
        "import pandas as pd\n",
        "\n",
        "# Загрузка датасета\n",
        "file_path = '/content/drive/MyDrive/dataset_hac (2).xlsx'\n",
        "employee_comments = pd.read_excel(file_path, sheet_name='Workers')\n",
        "hr_comments = pd.read_excel(file_path, sheet_name='HR')\n",
        "\n",
        "data= employee_comments.apply(lambda row: ' '.join([str(row[col]) for col in ['В1', 'В1.1'] if pd.notna(row[col])]), axis=1)\n",
        "data=data.dropna()"
      ],
      "metadata": {
        "id": "i3fgRH2tbg_W"
      },
      "execution_count": null,
      "outputs": []
    },
    {
      "cell_type": "markdown",
      "source": [
        "# эксперименты"
      ],
      "metadata": {
        "id": "W7EM4ngP_Po2"
      }
    },
    {
      "cell_type": "code",
      "source": [
        "\n",
        "\n",
        "def analyze_sentiment_for_dataframe(df, sentiment_pipeline):\n",
        "    results = []\n",
        "    for text in  df:  # Предполагаем, что текст находится в столбце 'text'\n",
        "        text=text[:511]\n",
        "        result = sentiment_pipeline(text)\n",
        "        label, score = result[0]['label'], result[0]['score']\n",
        "        results.append((text, label, score))\n",
        "    return results\n",
        "\n",
        "def deep_learn_analizer(file_path):\n",
        "\n",
        "    df = pd.read_excel(file_path)\n",
        "    df = df.iloc[:, 3]\n",
        "    df = df.dropna()\n",
        "\n",
        "    model_name = \"distilbert-base-multilingual-cased\"  # Многоязычная версия DistilBERT\n",
        "    tokenizer = DistilBertTokenizer.from_pretrained(model_name)\n",
        "    model = DistilBertForSequenceClassification.from_pretrained(model_name)\n",
        "\n",
        "    sentiment_pipeline = pipeline(\"sentiment-analysis\", model=model, tokenizer=tokenizer)\n",
        "\n",
        "    sentiment_results = analyze_sentiment_for_dataframe(df, sentiment_pipeline)\n",
        "\n",
        "    sentiment_df = pd.DataFrame(sentiment_results, columns=['text', 'label', 'score'])\n",
        "\n",
        "    # sentiment_df=sentiment_df[\"label\"]\n",
        "    d = {'good': sentiment_df.value_counts()[0], 'bad': sentiment_df.value_counts()[1]}\n",
        "    return sentiment_df\n",
        "\n",
        "\n",
        "deep_learn_analizer(\"/content/drive/MyDrive/dataset_hac (2).xlsx\")"
      ],
      "metadata": {
        "id": "b3y0z_of_P-W"
      },
      "execution_count": null,
      "outputs": []
    },
    {
      "cell_type": "markdown",
      "source": [
        "# Готовая модель"
      ],
      "metadata": {
        "id": "ES5r4LbP_qWW"
      }
    },
    {
      "cell_type": "code",
      "source": [
        "def analyze_sentiment_for_dataframe(df, sentiment_pipeline):\n",
        "    results = []\n",
        "    for text in  df:  # Предполагаем, что текст находится в столбце 'text'\n",
        "        text=text[:511]\n",
        "        result = sentiment_pipeline(text)\n",
        "        label, score = result[0]['label'], result[0]['score']\n",
        "        results.append((text, label, score))\n",
        "    return results\n",
        "\n",
        "def deep_learn_analizer(file_path):\n",
        "\n",
        "    df = pd.read_excel(file_path)\n",
        "    df = df.iloc[:, 3]\n",
        "    df = df.dropna()\n",
        "\n",
        "    model_name = \"blanchefort/rubert-base-cased-sentiment\"  # Многоязычная версия DistilBERT\n",
        "    tokenizer = BertTokenizer.from_pretrained(model_name)\n",
        "    model = BertForSequenceClassification.from_pretrained(model_name)\n",
        "    sentiment_pipeline = pipeline(\"sentiment-analysis\", model=model, tokenizer=tokenizer)\n",
        "\n",
        "\n",
        "    sentiment_results = analyze_sentiment_for_dataframe(df, sentiment_pipeline)\n",
        "\n",
        "    sentiment_df = pd.DataFrame(sentiment_results, columns=['text', 'label', 'score'])\n",
        "\n",
        "    sentiment_df=sentiment_df[\"label\"]\n",
        "    d = {'neural': sentiment_df.value_counts()[0], 'positive': sentiment_df.value_counts()[1], 'negative': sentiment_df.value_counts()[2]}\n",
        "    return ResponseObject(d)\n"
      ],
      "metadata": {
        "id": "K0uvQJ-r_vDc"
      },
      "execution_count": null,
      "outputs": []
    }
  ]
}